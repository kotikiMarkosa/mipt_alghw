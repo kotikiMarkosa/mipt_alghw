{
 "cells": [
  {
   "cell_type": "markdown",
   "metadata": {},
   "source": [
    "# Упражнение 1. Postfix traverse\n",
    "\n",
    "Добавьте в классс `BST` метод `postfix_traverse()`, который будет печатать пары ключ значение в порядке сначала левое поддерево, затем правое и в конце - корень."
   ]
  },
  {
   "cell_type": "code",
   "execution_count": 151,
   "metadata": {},
   "outputs": [],
   "source": [
    "class BSTNode:\n",
    "    def __init__(self, key, value, left=None, right=None):\n",
    "        self.value = value\n",
    "        self.key = key\n",
    "        self.left = left\n",
    "        self.right = right\n",
    "        \n",
    "        \n",
    "class BST:\n",
    "    def __init__(self):\n",
    "        self.root = None\n",
    "        \n",
    "    def insert(self, key, value):\n",
    "        if self.root is None:\n",
    "            self.root = BSTNode(key, value)\n",
    "        else:\n",
    "            self._insert(key, value, self.root)\n",
    "        \n",
    "    def _insert(self, key, value, root):\n",
    "        if key == root.key:\n",
    "            root.value = value\n",
    "        elif key < root.key:\n",
    "            if root.left is None:\n",
    "                root.left = BSTNode(key, value)\n",
    "            else:\n",
    "                self._insert(key, value, root.left)\n",
    "        else:\n",
    "            if root.right is None:\n",
    "                root.right = BSTNode(key, value)\n",
    "            else:\n",
    "                self._insert(key, value, root.right)\n",
    "            \n",
    "    def _find(self, key, root):\n",
    "        if root is None:\n",
    "            return None\n",
    "        if key == root.key:\n",
    "            return root.value\n",
    "        elif key < root.key:\n",
    "            return self._find(key, root.left)\n",
    "        else:\n",
    "            return self._find(key, root.right)\n",
    "            \n",
    "    def find(self, key):\n",
    "        return self._find(key, self.root)\n",
    "    \n",
    "    def _traverse(self, root):\n",
    "        if root is None:\n",
    "            return\n",
    "        self._traverse(root.left)\n",
    "        print(root.value)\n",
    "        self._traverse(root.right)\n",
    "    \n",
    "    def _postfix_traverse(self, root):\n",
    "        if root is None:\n",
    "            return\n",
    "        self._postfix_traverse(root.left)\n",
    "        self._postfix_traverse(root.right)\n",
    "        print(root.value)\n",
    "    \n",
    "    def traverse(self):\n",
    "        self._traverse(self.root)\n",
    "        \n",
    "    def postfix_traverse(self):\n",
    "        self._postfix_traverse(self.root)\n",
    "        \n",
    "    def insert_iteratively(self, key, value):\n",
    "        if self.root is None:\n",
    "            self.root = BSTNode(key, value)\n",
    "        else:\n",
    "            self._insert_iteratively(key, value, self.root)\n",
    "    \n",
    "    def _insert_iteratively(self, key, value, root):\n",
    "        insert_flag = 0\n",
    "        while not insert_flag:\n",
    "            if key == root.key:\n",
    "                root.value = value\n",
    "                insert_flag = 1\n",
    "            if key < root.key:\n",
    "                if root.left is None:\n",
    "                    root.left = BSTNode(key, value)\n",
    "                    insert_flag = 2\n",
    "                else:\n",
    "                    root = root.left\n",
    "            if key > root.key:\n",
    "                if root.right is None:\n",
    "                    root.right = BSTNode(key, value)\n",
    "                    insert_flag = 3\n",
    "                else:\n",
    "                    root = root.right\n",
    "        \n",
    "            \n",
    "    def __iadd__(self, another_tree):\n",
    "        if not another_tree.root:\n",
    "            return self\n",
    "        if not self.root:\n",
    "            return another_tree\n",
    "        \n",
    "        if self.root.key == another_tree.root.key:\n",
    "            self.root.value = another_tree.root.value\n",
    "            if self.root.left:\n",
    "                left_tree = BST()\n",
    "                left_tree.root = self.root.left\n",
    "                an_tree = BST()\n",
    "                an_tree.root = another_tree.root.left\n",
    "                left_tree.__iadd__(an_tree)\n",
    "            else:\n",
    "                self.root.left = another_tree.root.left\n",
    "            if self.root.right:\n",
    "                right_tree = BST()\n",
    "                right_tree.root = self.root.right\n",
    "                an_tree = BST()\n",
    "                an_tree.root = another_tree.root.right\n",
    "                right_tree.__iadd__(an_tree)\n",
    "            else:\n",
    "                self.root.right = another_tree.root.right        \n",
    "                \n",
    "        if self.root.key > another_tree.root.key:\n",
    "            left_tree = BST()\n",
    "            left_tree.root = self.root.left\n",
    "            left_tree.insert(another_tree.root.key, another_tree.root.value)\n",
    "            \n",
    "            an_tree_left = BST()\n",
    "            an_tree_left.root = another_tree.root.left            \n",
    "            left_tree += an_tree_left\n",
    "            \n",
    "            an_tree_right = BST()\n",
    "            an_tree_right.root = another_tree.root.right\n",
    "            self += an_tree_right\n",
    "            \n",
    "            \n",
    "        if self.root.key < another_tree.root.key:\n",
    "            right_tree = BST()\n",
    "            right_tree.root = self.root.right\n",
    "            right_tree.insert(another_tree.root.key, another_tree.root.value)\n",
    "            \n",
    "            an_right_tree = BST()\n",
    "            an_right_tree.root = another_tree.root.right\n",
    "            right_tree += an_right_tree\n",
    "            \n",
    "            an_tree_left = BST()\n",
    "            an_tree_left.root = another_tree.root.left\n",
    "            self += an_tree_left\n",
    "        return self"
   ]
  },
  {
   "cell_type": "code",
   "execution_count": 159,
   "metadata": {},
   "outputs": [],
   "source": [
    "bst = BST()\n",
    "bst.insert_iteratively(5, 'Vasya5')\n",
    "# bst.insert_iteratively(5, 'Petya5')\n",
    "bst.insert_iteratively(7, 'Dmitriy7')\n",
    "bst.insert_iteratively(4, 'Egor4')\n",
    "bst.insert_iteratively(8, 'Veronica8')\n",
    "# bst.traverse()\n",
    "# print('___Postfix traverse___')\n",
    "# bst.postfix_traverse()"
   ]
  },
  {
   "cell_type": "code",
   "execution_count": 160,
   "metadata": {},
   "outputs": [
    {
     "name": "stdout",
     "output_type": "stream",
     "text": [
      "1\n"
     ]
    }
   ],
   "source": [
    "# bst.traverse()\n",
    "if bst:\n",
    "    print(1)"
   ]
  },
  {
   "cell_type": "markdown",
   "metadata": {},
   "source": [
    "# Упражнение 2. Вставка без рекурсии\n",
    "\n",
    "Добавьте метод `BST.insert_iteratively()`, вставляющий новый узел в дерево без использования рекурсии."
   ]
  },
  {
   "cell_type": "code",
   "execution_count": null,
   "metadata": {},
   "outputs": [],
   "source": []
  },
  {
   "cell_type": "markdown",
   "metadata": {},
   "source": [
    "# Упражнение 3. Объединение двоичных деревьев поиска\n",
    "\n",
    "Определите для класса `BST` оператор `+=`, который будет добавлять в него все элементы другого экземпляра `BST`. Постарайтесь добиться максимальной эффективности."
   ]
  },
  {
   "cell_type": "code",
   "execution_count": 162,
   "metadata": {},
   "outputs": [
    {
     "name": "stdout",
     "output_type": "stream",
     "text": [
      "Petya2\n",
      "Dmitriy3\n",
      "Veronica9\n",
      "Egor10\n",
      "____\n",
      "Petya2\n",
      "Dmitriy3\n",
      "Egor4\n",
      "Vasya5\n",
      "Dmitriy7\n",
      "Veronica8\n",
      "Veronica9\n",
      "Egor10\n",
      "____\n",
      "Petya2\n",
      "Dmitriy3\n",
      "Egor4\n",
      "Vasya5\n",
      "Dmitriy7\n",
      "Veronica8\n",
      "Veronica9\n",
      "Egor10\n",
      "____\n",
      "Vasya5\n"
     ]
    }
   ],
   "source": [
    "bst1 = BST()\n",
    "bst1.insert_iteratively(3, 'Vasya3')\n",
    "bst1.insert_iteratively(2, 'Petya2')\n",
    "bst1.insert_iteratively(3, 'Dmitriy3')\n",
    "bst1.insert_iteratively(10, 'Egor10')\n",
    "bst1.insert_iteratively(9, 'Veronica9')\n",
    "bst1.traverse()\n",
    "print(\"____\")\n",
    "bst.traverse()\n",
    "print(\"____\")\n",
    "# bst.traverse()\n",
    "bst += bst1\n",
    "bst.traverse()\n",
    "print('____')\n",
    "print(bst.root.value)"
   ]
  },
  {
   "cell_type": "markdown",
   "metadata": {},
   "source": [
    "# Упражнение 4. Сеть компании Bmail\n",
    "\n",
    "Когда-то давно в небезызвестной компании Bmail был только один маршрутизатор. Шли года и с течением времени закупались новые маршрутизаторы. Каждый раз при покупке нового маршрутизатора он соединялся с одним из купленных до него. Вам заданы значения $p_i$ — номер маршрутизатора к которому был подключен $i$-й после покупки ($p_i < i$).\n",
    "\n",
    "Сейчас в Bmail всего $n$ маршрутизаторов. Выведите последовательность маршрутизаторов на пути от первого до $n$-го.\n",
    "\n",
    "### Входные данные\n",
    "В первой строке записано целое число $n$ ($2 \\le n \\le 200000$) — количество маршрутизаторов. Далее во второй строке записано $n−1$ целое число $p_2, p_3, \\ldots, p_n$ ($1 \\le p_i <i$), где $p_i$ равно номеру маршрутизатора, к которому подключили $i$-й после покупки.\n",
    "\n",
    "### Выходные данные\n",
    "Выведите путь от $1$-го до $n$-го маршрутизатора. Пусть должен начинаться с числа $1$ и заканчиваться числом $n$. Все номера в пути должны быть различны.\n",
    "\n",
    "### Примеры работы программы\n",
    "\n",
    "| <font size=3>Входные данные</font> | <font size=3>Выходные данные</font> |\n",
    "| :---: | :---: |\n",
    "| <font size=3>8<br>1 1 2 2 3 2 5</font> | <font size=3>1 2 5 8</font> |\n",
    "| <font size=3>6<br>1 2 3 4 5</font> | <font size=3>1 2 3 4 5 6</font> |\n",
    "| <font size=3>7<br>1 1 2 3 4 3</font> | <font size=3>1 3 7</font> |\n",
    "\n",
    "### Страница с проверяющей системой\n",
    "\n",
    "http://codeforces.com/problemset/problem/1057/A"
   ]
  },
  {
   "cell_type": "code",
   "execution_count": 182,
   "metadata": {},
   "outputs": [
    {
     "name": "stdout",
     "output_type": "stream",
     "text": [
      "8\n",
      "1 1 2 2 3 2 5\n",
      "1 2 5 8\n"
     ]
    }
   ],
   "source": [
    "n = int(input())\n",
    "connection_history = input().split()\n",
    "out_list = [str(n)]\n",
    "curr = connection_history[-1]\n",
    "while curr != '1':\n",
    "    out_list.append(curr)\n",
    "    curr = connection_history[int(curr) - 2]\n",
    "out_str = '1'\n",
    "out_list.reverse()\n",
    "for el in out_list:\n",
    "    out_str += ' ' + el\n",
    "print(out_str)"
   ]
  },
  {
   "cell_type": "code",
   "execution_count": 176,
   "metadata": {},
   "outputs": [
    {
     "data": {
      "text/plain": [
       "'1 7 3'"
      ]
     },
     "execution_count": 176,
     "metadata": {},
     "output_type": "execute_result"
    }
   ],
   "source": [
    "out_str"
   ]
  },
  {
   "cell_type": "markdown",
   "metadata": {},
   "source": [
    "# Упражнение 5. Сумма в дереве\n",
    "\n",
    "У Мити есть корневое дерево из $n$ вершин, пронумерованных от $1$ до $n$, причем корень дерева имеет номер $1$. В каждой его вершине $v$ было записано целое число $a_v \\ge 0$. Для каждой вершины $v$ Митя вычислил величину $s_v$: сумму чисел, записанных на пути от вершины $v$ до корня, а также $h_v$ — глубину вершины $v$, то есть количество вершин на пути от вершины $v$ до корня (таким образом, $s_1 = a_1$, $h_1 = 1$).\n",
    "\n",
    "После этого Митя уничтожил исходные значения $a_v$. К сожалению, он также случайно уничтожил все значения $s_v$ для вершин, находящихся на четной глубине (то есть тех, для которых $h_v$ является четным). Ваша задача состоит в том, чтобы восстановить значения $a_v$ для каждой из вершин либо определить, что это невозможно. Среди возможных вариантов нужно выбрать тот, при котором сумма значений $a_v$ во всем дереве является минимально возможной.\n",
    "\n",
    "### Входные данные\n",
    "В первой строке содержится число $n$ — число вершин в дереве ($2 \\le n \\le 10^5$). В следующей строке заданы числа $p_2, p_3, \\ldots, p_n$, где $p_i$ обозначает номер вершины, которая является предком вершины $i$ в дереве ($1 \\le p_i < i$). В последней строке входных данных содержатся целые числа $s_1, s_2, \\ldots, s_n$ ($−1 \\le s_v \\le 10^9$), где уничтоженные значения заменены на $−1$.\n",
    "\n",
    "### Выходные данные\n",
    "Выведите единственное число — минимально возможную сумму чисел $a_v$ в вершинах исходного дерева или $-1$, если такого дерева не существует.\n",
    "\n",
    "### Примеры работы программы\n",
    "\n",
    "| <font size=3>Входные данные</font> | <font size=3>Выходные данные</font> |\n",
    "| :---: | :---: |\n",
    "| <font size=3>5<br>1 1 1 1<br>1 -1 -1 -1 -1</font> | <font size=3>1</font> |\n",
    "| <font size=3>5<br>1 2 3 1<br>1 -1 2 -1 -1</font> | <font size=3>2</font> |\n",
    "| <font size=3>3<br>1 2<br>2 -1 1</font> | <font size=3>-1</font> |\n",
    "\n",
    "### Страница с проверяющей системой\n",
    "\n",
    "http://codeforces.com/problemset/problem/1098/A"
   ]
  },
  {
   "cell_type": "code",
   "execution_count": null,
   "metadata": {
    "collapsed": true
   },
   "outputs": [],
   "source": [
    "class Node:\n",
    "    def __init__(self, key, value, parent=None, children=[]):\n",
    "        self.key = key\n",
    "        self.value = value\n",
    "        self.parent = parent\n",
    "        self.children = children\n",
    "        self.children_number = 0\n",
    "    \n",
    "class Tree:\n",
    "    def.__init__ = \n",
    "    "
   ]
  },
  {
   "cell_type": "markdown",
   "metadata": {},
   "source": [
    "# Упражнение 6. Красим дерево\n",
    "\n",
    "Задано корневое дерево, состоящее из $n$ вершин. Будем считать, что вершины дерева пронумерованы целыми числами от $1$ до $n$. Корнем дерева является вершина с номером $1$.\n",
    "\n",
    "Каждая вершина дерева имеет определенный цвет, цвет вершины $v$ будем обозначать $c_v$, изначально $c_v = 0$.\n",
    "\n",
    "В задаче вам требуется раскрасить дерево в заданные цвета с помощью минимального числа действий. За одно действие вы можете выбрать вершину $v$ и цвет $x$, и покрасить все вершины поддерева $v$ (включая $v$) в цвет $x$, то есть для всех вершин $u$ таких, что путь от корня до $u$ содержит вершину $v$, сделать $c_u = x$.\n",
    "\n",
    "Гарантируется, что все вершины надо покрасить в цвет, отличный от $0$.\n",
    "\n",
    "Определение корневого дерева можно прочитать по ссылке: https://ru.wikipedia.org/wiki/Дерево_(теория_графов).\n",
    "\n",
    "### Входные данные\n",
    "В первой строке находится одно целое число $n$ ($2 \\le n \\le 10^4$) — число вершин дерева.\n",
    "\n",
    "В следующей строке следуют $n - 1$ целых чисел $p_2, p_3, \\ldots, p_n$ ($1 \\le p_i < i$), где $p_i$ обозначает, что существует ребро в графе между вершинами $i$ и $p_i$.\n",
    "\n",
    "В следующей строке следуют $n$ целых чисел $c_1, c_2, \\ldots, c_n$ ($1 \\le c_i \\le n$), где $c_i$ обозначает желаемый цвет вершины $i$.\n",
    "\n",
    "Гарантируется, что заданный граф является деревом.\n",
    "\n",
    "### Выходные данные\n",
    "На первой и единственной строке выведите одно целое число — минимальное число действий, за которое можно покрасить дерево в желаемые цвета.\n",
    "\n",
    "### Примеры работы программы\n",
    "\n",
    "| <font size=3>Входные данные</font> | <font size=3>Выходные данные</font> |\n",
    "| :---: | :---: |\n",
    "| <font size=3>6<br>1 2 2 1 5<br>2 1 1 1 1 1</font> | <font size=3>3</font> |\n",
    "| <font size=3>7<br>1 1 2 3 1 4<br>3 3 1 1 1 2 3</font> | <font size=3>5</font> |\n",
    "\n",
    "### Страница с проверяющей системой и картинками\n",
    "\n",
    "http://codeforces.com/problemset/problem/902/B"
   ]
  },
  {
   "cell_type": "code",
   "execution_count": null,
   "metadata": {
    "collapsed": true
   },
   "outputs": [],
   "source": []
  },
  {
   "cell_type": "markdown",
   "metadata": {},
   "source": [
    "# Упражнение 7. Путешествие\n",
    "\n",
    "В Семи Королевствах n городов и $n - 1$ дорога, каждая дорога соединяет два города, и возможно достичь каждый город из каждого, передвигаясь по дорогам.\n",
    "\n",
    "Теон и Яра Грейджой начинают путешествовать на лошади по дорогам из первого города. Из-за тумана они не видят, куда лошадь их везет. Когда лошадь входит в город (в том числе в первый), она направляется в один из городов, соединенных с ним. Но это странная лошадь, поэтому она пойдет только в город, в котором до этого не была. Она идет равновероятно в каждый из таких городов и останавливается, если таких городов нет.\n",
    "\n",
    "Пусть длина каждой дороги $1$. Путешествие начинается в городе $1$. Чему равно математическое ожидание длины их путешествия? Формально, математическое ожидание — это ожидаемое (то есть среднее) значение. Подробнее можно прочесть по ссылке https://ru.wikipedia.org/wiki/Математическое_ожидание.\n",
    "\n",
    "### Входные данные\n",
    "Первая строка содержит одно целое число $n$ ($1 \\le n \\le 100000$) — количество городов.\n",
    "\n",
    "Далее следует $n - 1$ строк. $i$-я из них содержит два целых числа $u_i$ и $v_i$ ($1 \\le u_i$, $v_i \\le n$, $u_i \\ne v_i$) — номера городов, соединенных $i$-й дорогой.\n",
    "\n",
    "Гарантируется, что возможно достичь каждый город из каждого, передвигаясь по дорогам.\n",
    "\n",
    "### Выходные данные\n",
    "Выведите одно число — математическое ожидание длины путешествия. Путешествие начинается в городе $1$.\n",
    "\n",
    "Ваш ответ будет считаться правильным, если его абсолютная или относительная точность не превосходит $10^{-6}$.\n",
    "\n",
    "А именно, если ваш ответ равен $a$, а ответ жюри равен $b$, то ваш ответ будет зачтен, если $\\frac{|a - b|}{\\max(1, b)} \\le 10^{-6}$.\n",
    "\n",
    "### Примеры работы программы\n",
    "\n",
    "| <font size=3>Входные данные</font> | <font size=3>Выходные данные</font> |\n",
    "| :---: | :---: |\n",
    "| <font size=3>4<br>1 2<br>1 3<br>2 4</font> | <font size=3>1.5</font> |\n",
    "| <font size=3>5<br>1 2<br>1 3<br>3 4<br>2 5</font> | <font size=3>2.0</font> |\n",
    "\n",
    "### Страница с проверяющей системой\n",
    "\n",
    "http://codeforces.com/problemset/problem/839/C"
   ]
  },
  {
   "cell_type": "code",
   "execution_count": 249,
   "metadata": {},
   "outputs": [
    {
     "name": "stdout",
     "output_type": "stream",
     "text": [
      "5 \n",
      "1 2\n",
      "1 3\n",
      "2 5\n",
      "3 4\n",
      "2.0\n"
     ]
    }
   ],
   "source": [
    "class Way:\n",
    "    def __init__(self, curr_node, prev_node=None, next_node=None, lenth = 0):\n",
    "        self.curr_node = curr_node\n",
    "        self.next_node = next_node\n",
    "        self.prev_node = prev_node\n",
    "        self.lenth = lenth\n",
    "        self.children = 0\n",
    "        self.probability = 1\n",
    "\n",
    "n = int(input())\n",
    "if n == 0:\n",
    "    print(0)\n",
    "elif n ==1:\n",
    "    print(1)\n",
    "else:\n",
    "    init_split = 0\n",
    "    ways = []\n",
    "    for i in range(n - 1):\n",
    "        new_road = input().split()\n",
    "        if new_road[0] == '1':\n",
    "            curr_way = Way(curr_node=new_road[1], lenth=1)\n",
    "            init_split += 1\n",
    "            ways.append(curr_way)\n",
    "        else:\n",
    "            for way in ways:\n",
    "                if way.curr_node == new_road[0]:\n",
    "                    curr_way = Way(curr_node=new_road[1], prev_node=way, lenth=way.lenth + 1)\n",
    "                    way.next_node = new_road[1]\n",
    "                    way.children += 1\n",
    "                    ways.append(curr_way)\n",
    "    \n",
    "    init_probability = 1/init_split\n",
    "    for way in ways:\n",
    "        if way.prev_node is None:\n",
    "            way.probability *= init_probability\n",
    "        else:\n",
    "            way.probability = way.prev_node.probability / way.prev_node.children\n",
    "        \n",
    "\n",
    "    \n",
    "    ans = 0\n",
    "    for way in ways:\n",
    "        if way.next_node is None:\n",
    "            ans += way.lenth*way.probability\n",
    "            \n",
    "    print(ans)\n"
   ]
  },
  {
   "cell_type": "code",
   "execution_count": 248,
   "metadata": {},
   "outputs": [
    {
     "data": {
      "text/plain": [
       "1"
      ]
     },
     "execution_count": 248,
     "metadata": {},
     "output_type": "execute_result"
    }
   ],
   "source": [
    "ways[2].prev_node.children"
   ]
  },
  {
   "cell_type": "code",
   "execution_count": null,
   "metadata": {},
   "outputs": [],
   "source": []
  },
  {
   "cell_type": "markdown",
   "metadata": {},
   "source": [
    "# Упражнение 8. Разрезание дерева\n",
    "\n",
    "Задано неориентированное дерево из $n$ вершин.\n",
    "\n",
    "Некоторые вершины покрашены в красный цвет, некоторые — в синий, а некоторые не покрашены совсем. Гарантируется, что дерево содержит хотя бы одну красную вершину и хотя бы одну синюю вершину.\n",
    "\n",
    "Вы выбираете ребро и удаляете его из дерева. Дерево распадается на две связных компоненты. Назовем ребро хорошим, если в каждой из двух компонент не будет одновременно синей и красной вершин.\n",
    "\n",
    "Сколько хороших ребер в данном дереве?\n",
    "\n",
    "### Входные данные\n",
    "В первой строке записано одно целое число $n$ ($2 \\le n  \\le 3 \\cdot 10^5$) — количество вершин в дереве.\n",
    "\n",
    "Во второй строке записаны $n$ целых чисел $a_1, a_2, \\ldots, a_n$ ($0 \\le a_i < 2$) — цвета вершин. $a_i = 1$ значит, что вершина $i$ покрашена в красный, $a_2 = 2$ значит, что вершина $i$ покрашена в синий, и $a_i = 0$ значит, что вершина $i$ не покрашена.\n",
    "\n",
    "В $i$-й из следующих $n-1$ строк содержится два целых числа $v_i$ и $u_i$ ($1 \\le v_i$, $u_i \\le n$, $v_i \\ne u_i$) — ребра дерева. Гарантируется, что данные ребра образуют дерево. Гарантируется, что дерево содержит хотя бы одну красную вершину и хотя бы одну синюю вершину.\n",
    "\n",
    "### Выходные данные\n",
    "Выведите одно целое число — количество хороших ребер в данном дереве.\n",
    "\n",
    "### Примеры работы программы\n",
    "\n",
    "| <font size=3>Входные данные</font> | <font size=3>Выходные данные</font> |\n",
    "| :---: | :---: |\n",
    "| <font size=3>5<br>2 0 0 1 2<br>1 2<br>2 3<br>2 4<br>2 5</font> | <font size=3>1</font> |\n",
    "| <font size=3>5<br>1 0 0 0 2<br>1 2<br>2 3<br>3 4<br>4 5</font> | <font size=3>4</font> |\n",
    "| <font size=3>3<br>1 1 2<br>2 3<br>1 3</font> | <font size=3>0</font> |\n",
    "\n",
    "### Страница задачи с проверяющей системой и картинками\n",
    "\n",
    "http://codeforces.com/problemset/problem/1118/F1"
   ]
  },
  {
   "cell_type": "code",
   "execution_count": null,
   "metadata": {
    "collapsed": true
   },
   "outputs": [],
   "source": []
  }
 ],
 "metadata": {
  "kernelspec": {
   "display_name": "Python 3",
   "language": "python",
   "name": "python3"
  },
  "language_info": {
   "codemirror_mode": {
    "name": "ipython",
    "version": 3
   },
   "file_extension": ".py",
   "mimetype": "text/x-python",
   "name": "python",
   "nbconvert_exporter": "python",
   "pygments_lexer": "ipython3",
   "version": "3.7.3"
  }
 },
 "nbformat": 4,
 "nbformat_minor": 2
}
