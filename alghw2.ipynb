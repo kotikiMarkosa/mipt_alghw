{
 "cells": [
  {
   "cell_type": "markdown",
   "metadata": {},
   "source": [
    "### Литература\n",
    "\n",
    "1. И.Н. Порублев, А.Н. Ставровский - Алгоритмы и программы. Решение олимпиадных задач<br>\n",
    "Загружена в канал #edu_materials\n",
    "\n",
    "# Упражнение 1. Бинарный поиск\n",
    "\n",
    "Лучший способ искать элемент в отсортированном массиве. Пусть требуется определить индекс $i$ элемента, равного `x`, в упорядоченном по возрастанию массиве $A$. Тогда действовать следует следующим образом:\n",
    "\n",
    "1. Берем центральный элемент $c$ в массиве $A$\n",
    "\n",
    "2. Сравниваем $c$ с $x$. Если $c < x$, то элемент, равный $x$ правее $c$ и бинарный поиск применяется к правой половине массива. Если $c < x$, то бинарный поиск соответственно применяется к левой половине массива.\n",
    "\n",
    "Реализуйте поиск элемента, равного $x$, в рекурсивном и нерекурсивном вариантах."
   ]
  },
  {
   "cell_type": "code",
   "execution_count": 132,
   "metadata": {},
   "outputs": [
    {
     "data": {
      "text/plain": [
       "[1]"
      ]
     },
     "execution_count": 132,
     "metadata": {},
     "output_type": "execute_result"
    }
   ],
   "source": [
    "my_list = [i + 1 for i in range(1)]\n",
    "x = 1\n",
    "\n",
    "\n",
    "def binary_search_with_recursion(some_list, some_value, start, finish):\n",
    "    central_elem = start + (finish - start)//2\n",
    "    \n",
    "    print(central_elem)\n",
    "    if some_list[central_elem] == some_value:\n",
    "        return central_elem\n",
    "    elif some_list[central_elem] < some_value:\n",
    "        return binary_search(some_list, some_value, start=central_elem + 1, finish=finish)\n",
    "    else:\n",
    "        return binary_search(some_list, some_value, start=start, finish=central_elem - 1 )\n",
    "my_list"
   ]
  },
  {
   "cell_type": "code",
   "execution_count": 133,
   "metadata": {},
   "outputs": [
    {
     "name": "stdout",
     "output_type": "stream",
     "text": [
      "0\n"
     ]
    },
    {
     "data": {
      "text/plain": [
       "0"
      ]
     },
     "execution_count": 133,
     "metadata": {},
     "output_type": "execute_result"
    }
   ],
   "source": [
    "binary_search_with_recursion(my_list, x, 0, len(my_list))"
   ]
  },
  {
   "cell_type": "code",
   "execution_count": 134,
   "metadata": {},
   "outputs": [],
   "source": [
    "def binary_search_with_loop(some_list, some_value):\n",
    "    start = 0\n",
    "    finish = len(some_list)\n",
    "    found = False\n",
    "    while not found:\n",
    "        central_elem = start + (finish - start)//2\n",
    "        if some_list[central_elem] == some_value:\n",
    "            found = True\n",
    "            ans = central_elem\n",
    "        elif some_list[central_elem] > some_value:\n",
    "            finish = central_elem\n",
    "        else:\n",
    "            start = central_elem\n",
    "    return ans\n"
   ]
  },
  {
   "cell_type": "code",
   "execution_count": 135,
   "metadata": {},
   "outputs": [
    {
     "data": {
      "text/plain": [
       "0"
      ]
     },
     "execution_count": 135,
     "metadata": {},
     "output_type": "execute_result"
    }
   ],
   "source": [
    "binary_search_with_loop(my_list, x)"
   ]
  },
  {
   "cell_type": "markdown",
   "metadata": {},
   "source": [
    "# Упражнение 2. Поиск точки максимума в целых числах\n",
    "\n",
    "По целому $c \\ge 1$ найдите целое $a$, при котором $a^{c-a}$ максимально. Используйте бинарный поиск."
   ]
  },
  {
   "cell_type": "code",
   "execution_count": 167,
   "metadata": {},
   "outputs": [
    {
     "name": "stdout",
     "output_type": "stream",
     "text": [
      "1\n",
      "2\n"
     ]
    },
    {
     "data": {
      "text/plain": [
       "2"
      ]
     },
     "execution_count": 167,
     "metadata": {},
     "output_type": "execute_result"
    }
   ],
   "source": [
    "c = 3\n",
    "function_list = [i**(c - i) for i in range(0, c)]\n",
    "max_value = max(function_list)\n",
    "\n",
    "\n",
    "\n",
    "def binary_search_for_max(some_list):\n",
    "    start = 0\n",
    "    finish = len(some_list)\n",
    "    found = False\n",
    "    while not found:\n",
    "        central_elem = (start + finish)//2\n",
    "        if central_elem == 0 or central_elem == len(some_list) - 1:\n",
    "            found = True\n",
    "            ans = central_elem\n",
    "        elif (some_list[central_elem] > some_list[central_elem - 1] and \n",
    "             some_list[central_elem] > some_list[central_elem + 1]):\n",
    "            found = True\n",
    "            ans = central_elem\n",
    "        elif some_list[central_elem] < some_list[central_elem - 1]:\n",
    "            finish = central_elem\n",
    "        else:\n",
    "            start = central_elem\n",
    "    return ans\n",
    "\n",
    "binary_search_for_max(function_list)"
   ]
  },
  {
   "cell_type": "code",
   "execution_count": 168,
   "metadata": {},
   "outputs": [
    {
     "data": {
      "text/plain": [
       "[<matplotlib.lines.Line2D at 0x7fb0be7deb38>]"
      ]
     },
     "execution_count": 168,
     "metadata": {},
     "output_type": "execute_result"
    },
    {
     "data": {
      "image/png": "[encoded data removed]",
      "text/plain": [
       "<Figure size 432x288 with 1 Axes>"
      ]
     },
     "metadata": {
      "needs_background": "light"
     },
     "output_type": "display_data"
    }
   ],
   "source": [
    "import matplotlib.pyplot as plt\n",
    "plt.plot(function_list)"
   ]
  },
  {
   "cell_type": "markdown",
   "metadata": {},
   "source": [
    "# Упражнение 3. $k$-й по величине элемент\n",
    "\n",
    "Найти $k$-е по величине значение в массиве из $N$ элементов (не сортируя массив полностью). Если сами не придумаете, есть подсказка к задаче 5.6 на стр. 438 в [1]."
   ]
  },
  {
   "cell_type": "code",
   "execution_count": 211,
   "metadata": {},
   "outputs": [
    {
     "data": {
      "text/plain": [
       "[8, 9, 2, 5, 1, 3, 4, 0, 6, 7]"
      ]
     },
     "execution_count": 211,
     "metadata": {},
     "output_type": "execute_result"
    }
   ],
   "source": [
    "import random\n",
    "k = 3\n",
    "N = 10\n",
    "my_list = [i for i in range(N)]\n",
    "random.shuffle(my_list)\n",
    "k_list = [my_list[0]]\n",
    "\n",
    "i = 1\n",
    "my_list"
   ]
  },
  {
   "cell_type": "code",
   "execution_count": 215,
   "metadata": {},
   "outputs": [
    {
     "name": "stdout",
     "output_type": "stream",
     "text": [
      "3-й элемент:  2\n"
     ]
    }
   ],
   "source": [
    "while i < N:\n",
    "    if len(k_list) < k:\n",
    "        k_list.append(my_list[i])\n",
    "    else:\n",
    "        k_list = sorted(k_list)\n",
    "        if my_list[i] > k_list[-1]:\n",
    "            pass\n",
    "        else:\n",
    "            k_list[-1] = my_list[i]\n",
    "    print(i, k_list)\n",
    "    i +=1\n",
    "print(f\"{k}-й элемент: \", k_list[-1])"
   ]
  },
  {
   "cell_type": "markdown",
   "metadata": {},
   "source": [
    "# Упражнение 4. Разбиение Ломуто\n",
    "\n",
    "Реализуйте быструю сортировку на основе [разбиения Ломуто](https://en.wikipedia.org/wiki/Quicksort#Lomuto_partition_scheme)."
   ]
  },
  {
   "cell_type": "code",
   "execution_count": null,
   "metadata": {
    "collapsed": true
   },
   "outputs": [],
   "source": []
  },
  {
   "cell_type": "markdown",
   "metadata": {},
   "source": [
    "# Упражнение 5. Задача флага Нидерландов\n",
    "\n",
    "Пусть есть массив, элементы которого равны одному из чисел 0, 1, 2. Как упорядочить такой массив возрастанию в один проход?<br>\n",
    "Попробуйте придумать решение самостоятельно, а затем сравните с алгоритмом, описанном [здесь](https://neerc.ifmo.ru/wiki/index.php?title=Dutch_national_flag_problem). Реализуйте быструю сортировку на основе описанного разбиения. Функция `partition()` должна разбивать массив на 3 части: в первой должны быть элементы меньше опорного, во второй - равные опорному, в третей - элементы больше опорного.\n",
    "\n",
    "> [Здесь](https://algs4.cs.princeton.edu/lectures/23DemoPartitioning.pdf) есть демонстрация работы разбиения под названием \"Dijkstra 3-way partitioning\" \n",
    "\n",
    "> Запись `++` может обозначать либо префиксный, либо постфиксный инкремент, в зависимости от того, где расположен операнд. Инструкция\n",
    "```c++\n",
    "a = ++i\n",
    "```\n",
    "содержит оператор \"префиксный инкремент\", который сначала увеличивает `i` на 1, а затем возвращает значение `i`. Например, если `i == 0`, то после выполнения инструкции `i == 1`, `a == 1`. В следующем фрагменте показан постфиксный инкремент.\n",
    "```c++\n",
    "a = i++\n",
    "```\n",
    "В этом случае сначала возвращается значение `i` до увеличения, а затем уже выполняется увеличение `i` на 1. Пусть `i == 0`, тогда в конце получится `i == 1`, `a == 0`.\n",
    "\n",
    "> Перед тем обменивать "
   ]
  },
  {
   "cell_type": "code",
   "execution_count": null,
   "metadata": {
    "collapsed": true
   },
   "outputs": [],
   "source": []
  },
  {
   "cell_type": "markdown",
   "metadata": {},
   "source": [
    "# Упражнение 6. Быстрая сортировка на 2-х опорных элементах (dual pivot quicksort)\n",
    "\n",
    "Есть улучшенная версия разбиения из упражнения 5. Выбираются **2** различных опорных элемента, и меньший из которых $p_1$ располагается в начале массива, а больший $p_2$ в конце массива. Если такие опорные элементы не удалось выбрать, то массив состоит из одинаковых элементов и уже отсортирован. Далее элементы, находящиеся между опорными распределяются, как в упражнении 5, но в центральную часть попадают элементы, чье значение $v$ удовлетворяет неравенствам $p_1 \\le v \\le p_2$. После распределения опорные элементы $p_1$ и $p_2$ присоединяются к центральной части соответственно с начала и с конца. \n",
    "\n",
    "Реализация на C есть [тут](https://www.geeksforgeeks.org/dual-pivot-quicksort/)\n",
    "\n",
    "> [Здесь](https://algs4.cs.princeton.edu/lectures/23DemoPartitioning.pdf) есть демонстрация работы разбиения под названием \"dual-pivot partitioning\" "
   ]
  },
  {
   "cell_type": "code",
   "execution_count": null,
   "metadata": {
    "collapsed": true
   },
   "outputs": [],
   "source": []
  },
  {
   "cell_type": "markdown",
   "metadata": {},
   "source": [
    "# Упражнение 7. Упорядоченные множества\n",
    "\n",
    "Два множества целых чисел через пробел записаны в файлах <font color=green>set1.txt</font> и <font color=green>set2.txt</font> в порядке возрастания. Создайте из них третье множество чисел и запишите его в файл в порядке возрастания.\n",
    "\n",
    "Напишите код для создания третьего множества каждым из перечисленных способов:\n",
    "\n",
    "1. объединение,\n",
    "\n",
    "- пересечение,\n",
    "\n",
    "- разность,\n",
    "\n",
    "- симметричная разность.\n",
    "\n",
    "Алгоритм должен быть однопроходным. Не используйте объекты типа `set`."
   ]
  },
  {
   "cell_type": "code",
   "execution_count": 240,
   "metadata": {},
   "outputs": [],
   "source": [
    "import random\n",
    "\"\"\"\n",
    "files preparing\n",
    "\"\"\"\n",
    "# set1 = sorted([random.randint(0, 20) for i in range(10)])\n",
    "# set2 = sorted([random.randint(0,10) for i in range(10)])\n",
    "\n",
    "# with open(\"set1.txt\", 'w') as set1_f:\n",
    "#     for num in set1:\n",
    "#         set1_f.write(str(num) + ' ')\n",
    "        \n",
    "# with open(\"set2.txt\", 'w') as set2_f:\n",
    "#     for num in set2:\n",
    "#         set2_f.write(str(num) + ' ')\n"
   ]
  },
  {
   "cell_type": "code",
   "execution_count": 253,
   "metadata": {},
   "outputs": [],
   "source": [
    "with open('set1.txt', 'r') as set1_f:\n",
    "    set1 = set1_f.readline().split()\n",
    "with open('set2.txt', 'r') as set2_f:\n",
    "    set2 = set2_f.readline().split()"
   ]
  },
  {
   "cell_type": "code",
   "execution_count": 289,
   "metadata": {},
   "outputs": [],
   "source": [
    "def merge(set1, set2):\n",
    "    i = 0\n",
    "    j = 0\n",
    "    set3 = []\n",
    "    while i < len(set1) and j < len(set2):\n",
    "        if int(set1[i]) <= int(set2[j]):\n",
    "            set3.append(int(set1[i]))\n",
    "            i +=1\n",
    "        else:\n",
    "            set3.append(int(set2[j]))\n",
    "            j +=1\n",
    "    while i < len(set1):\n",
    "        set3.append(int(set1[i]))\n",
    "        i +=1\n",
    "    while j < len(set2):\n",
    "        set3.append(int(set2[j]))\n",
    "        j +=1\n",
    "    return set3\n",
    "\n",
    "def intersection(set1, set2):\n",
    "    i = 0\n",
    "    j = 0\n",
    "    set3 = []\n",
    "    while i < len(set1) and j < len(set2):\n",
    "        if int(set1[i]) < int(set2[j]):\n",
    "            curr = int(set1[i])\n",
    "            i +=1\n",
    "        elif int(set1[i]) == int(set2[j]):\n",
    "            set3.append(int(set2[j]))\n",
    "            j +=1\n",
    "            i +=1\n",
    "        else:\n",
    "            j +=1\n",
    "    return set3\n",
    "      \n",
    "def difference(set1, set2):\n",
    "    i = 0\n",
    "    j = 0\n",
    "    set3 = []\n",
    "    while i < len(set1) and j < len(set2):\n",
    "        if int(set1[i]) < int(set2[j]):\n",
    "            set3.append(int(set1[i]))\n",
    "            i +=1\n",
    "        elif int(set1[i]) == int(set2[j]):\n",
    "            i +=1\n",
    "            j +=1\n",
    "        else:\n",
    "            j +=1\n",
    "    while i < len(set1):\n",
    "        set3.append(int(set1[i]))\n",
    "        i +=1\n",
    "    return set3\n",
    "\n",
    "def symm_difference(set1, set2):\n",
    "    i = 0\n",
    "    j = 0\n",
    "    set3 = []\n",
    "    while i < len(set1) and j < len(set2):\n",
    "        if int(set1[i]) < int(set2[j]):\n",
    "            set3.append(int(set1[i]))\n",
    "            i +=1\n",
    "        elif int(set1[i]) == int(set2[j]):\n",
    "            i +=1\n",
    "            j +=1\n",
    "        else:\n",
    "            set3.append(int(set2[j]))\n",
    "            j +=1\n",
    "    while i < len(set1):\n",
    "        set3.append(int(set1[i]))\n",
    "        i +=1\n",
    "    while j < len(set2):\n",
    "        set3.append(int(set2[j]))\n",
    "        j +=1\n",
    "    return set3\n",
    "\n",
    "def create_set3(set1, set2, method):\n",
    "    if int(method) == 1:\n",
    "        return merge(set1, set2)\n",
    "    elif int(method) == 2:\n",
    "        return intersection(set1, set2)\n",
    "    elif int(method) == 3:\n",
    "        return difference(set1, set2)\n",
    "    elif int(method) == 4:\n",
    "        return symm_difference(set1, set2)\n",
    "    else:\n",
    "        print(\"wrong method\")"
   ]
  },
  {
   "cell_type": "code",
   "execution_count": 299,
   "metadata": {},
   "outputs": [
    {
     "name": "stdout",
     "output_type": "stream",
     "text": [
      "Choose method from {1, 2, 3, 4}\n",
      "2\n"
     ]
    }
   ],
   "source": [
    "print(\"Choose method from {1, 2, 3, 4}\")\n",
    "method = input()\n",
    "\n",
    "set3 = create_set3(set1, set2, method)"
   ]
  },
  {
   "cell_type": "code",
   "execution_count": 300,
   "metadata": {},
   "outputs": [],
   "source": [
    "with open(\"set3.txt\", 'w') as set3_f:\n",
    "    for num in set3:\n",
    "        set3_f.write(str(num) + ' ')"
   ]
  },
  {
   "cell_type": "markdown",
   "metadata": {},
   "source": [
    "# Упражнение 8.  Top down merge sort\n",
    "\n",
    "Напишите рекурсивный вариант сортировки слиянием. Отталкивайтесь кода C, приведенного [тут](https://en.wikipedia.org/wiki/Merge_sort)."
   ]
  },
  {
   "cell_type": "code",
   "execution_count": 302,
   "metadata": {},
   "outputs": [],
   "source": [
    "def top_down_merge():\n",
    "    pass\n"
   ]
  },
  {
   "cell_type": "code",
   "execution_count": null,
   "metadata": {},
   "outputs": [],
   "source": []
  }
 ],
 "metadata": {
  "kernelspec": {
   "display_name": "Python 3",
   "language": "python",
   "name": "python3"
  },
  "language_info": {
   "codemirror_mode": {
    "name": "ipython",
    "version": 3
   },
   "file_extension": ".py",
   "mimetype": "text/x-python",
   "name": "python",
   "nbconvert_exporter": "python",
   "pygments_lexer": "ipython3",
   "version": "3.7.3"
  }
 },
 "nbformat": 4,
 "nbformat_minor": 2
}
