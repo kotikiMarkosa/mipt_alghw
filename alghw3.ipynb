{
 "cells": [
  {
   "cell_type": "markdown",
   "metadata": {},
   "source": [
    "# Упражнение 1. Альтернативная реализация сортировки подсчетом\n",
    "\n",
    "Изучите алгоритм сортировки подсчетом, представленный в разделе \"устойчивый алгоритм\" в [статье](https://ru.wikipedia.org/wiki/%D0%A1%D0%BE%D1%80%D1%82%D0%B8%D1%80%D0%BE%D0%B2%D0%BA%D0%B0_%D0%BF%D0%BE%D0%B4%D1%81%D1%87%D1%91%D1%82%D0%BE%D0%BC) из википедии. Реализуйте его на Python."
   ]
  },
  {
   "cell_type": "code",
   "execution_count": 51,
   "metadata": {},
   "outputs": [],
   "source": [
    "import random\n",
    "k = 5\n",
    "N = 200\n",
    "A_list = [random.randint(0, k - 1) for i in range(N)]\n",
    "B_list = [0 for i in range(N)]\n",
    "C_list = [0 for i in range(k)]\n",
    "\n",
    "for i in range(N):\n",
    "    C_list[A_list[i]] +=1\n",
    "\n",
    "for i in range(1, k):\n",
    "    C_list[i] += C_list[i - 1]\n",
    "    \n",
    "for i in range(N-1, -1, -1):\n",
    "    C_list[A_list[i]] -= 1\n",
    "    B_list[C_list[A_list[i]]] = A_list[i]"
   ]
  },
  {
   "cell_type": "markdown",
   "metadata": {},
   "source": [
    "# Упражнение 2. Сортировка подсчетом без буфера\n",
    "\n",
    "Модифицируйте алгоритм из упражнения 1 так, чтобы сортировка производилась без использования вспомогательного буфера для отсортированного массива."
   ]
  },
  {
   "cell_type": "code",
   "execution_count": 49,
   "metadata": {},
   "outputs": [],
   "source": [
    "A_list = [random.randint(0, k - 1) for i in range(N)]\n",
    "B_list = A_list\n",
    "C_list = [0 for i in range(k)]\n",
    "\n",
    "for i in range(N):\n",
    "    C_list[A_list[i]] +=1\n",
    "    \n",
    "for i in range(1, k):\n",
    "    C_list[i] += C_list[i - 1]\n",
    "\n",
    "A_list[:C_list[0]] = [0 for i in range(C_list[0])]\n",
    "for i in range(1, k):\n",
    "    for j in range(C_list[i - 1], C_list[i]):\n",
    "         A_list[j] = i\n"
   ]
  },
  {
   "cell_type": "markdown",
   "metadata": {},
   "source": [
    "# Упражнение 3. Блочная сортировка для произвольного распределения \n",
    "\n",
    "Пусть элементы сортируемого массива $A$ распределены с плотностью вероятности $\\rho(x)$. Как можно разбить область значений элементов массива на корзины для блочной сортировки? Реализуйте Ваш метод разбиения в виде функции `partition()`, которая будет принимать на вход три аргумента:\n",
    "\n",
    "1. `N` - число блоков;\n",
    "\n",
    "2. `bounds` - кортеж из двух элементов, содержащий левую и правую границы области значений элементов массива;\n",
    "\n",
    "3. `rho` - функция вычисляющая плотность вероятности того, что элемент массива  принимает некоторое значение (функцция принимает одно вещественное число и возвращает одно вещественное число).\n",
    "\n",
    "> Утверждение, что элементы распределены с плотностью вероятности $\\rho(x)$, значит, что вероятность обнаружить элемент массива $e$ на отрезке $[x,~x + \\Delta x]$  равна\n",
    "$$P(e \\in [x,~x + \\Delta x]) = \\int\\limits_x^{x + \\Delta x} \\rho(x) dx$$\n",
    "Считайте, что $\\rho(x)$ не равна нулю только на отрезке `[bounds[0], bounds[1]]`"
   ]
  },
  {
   "cell_type": "code",
   "execution_count": 56,
   "metadata": {},
   "outputs": [],
   "source": [
    "import matplotlib.pyplot as plt"
   ]
  },
  {
   "cell_type": "code",
   "execution_count": 85,
   "metadata": {},
   "outputs": [
    {
     "name": "stdout",
     "output_type": "stream",
     "text": [
      "0.7499999925000026 0.0\n"
     ]
    },
    {
     "data": {
      "text/plain": [
       "[<matplotlib.lines.Line2D at 0x7feccf766d68>]"
      ]
     },
     "execution_count": 85,
     "metadata": {},
     "output_type": "execute_result"
    },
    {
     "data": {
      "image/png": "[encoded data removed]",
      "text/plain": [
       "<Figure size 432x288 with 1 Axes>"
      ]
     },
     "metadata": {
      "needs_background": "light"
     },
     "output_type": "display_data"
    }
   ],
   "source": [
    "def rho(x):\n",
    "    return (9 - x**2)/80000\n",
    "\n",
    "def partition(N, bounds, rho, split_factor = 10000):\n",
    "    diap = (bounds[1] - bounds[0])\n",
    "    dist = [0 for i in range(split_factor)]\n",
    "    dist[0] = rho(bounds[0])\n",
    "    for i in range(1, split_factor):\n",
    "        dist[i] = rho(bounds[0] + diap*i/split_factor) + dist[i - 1]\n",
    "    \n",
    "    N_bounds = [0 for i in range(N + 1)]\n",
    "    N_bounds[0] = bounds[0]\n",
    "    N_bounds[-1] = bounds[1]\n",
    "#     (dist[split_factor - 1] - dist[0])/N\n",
    "    \n",
    "    \n",
    "        \n",
    "    return dist\n",
    "rho_list = partition(10, (-3, 3), rho)\n",
    "plt.plot(rho_list)\n",
    "# rho_list"
   ]
  },
  {
   "cell_type": "markdown",
   "metadata": {},
   "source": [
    "# Упражнение 4. Определение оптимального количества блоков (упражнение 3 из alg3)\n",
    "\n",
    "Отсортируйте с помощью блочной сортировки список `L`. Определите оптимальное значение числа блоков для сортировки списка из $10^4$ элементов."
   ]
  },
  {
   "cell_type": "code",
   "execution_count": null,
   "metadata": {
    "collapsed": true
   },
   "outputs": [],
   "source": [
    "import timeit\n",
    "import random\n",
    "L = [random.uniform(0, 1) for _ in range(10**4)]"
   ]
  }
 ],
 "metadata": {
  "kernelspec": {
   "display_name": "Python 3",
   "language": "python",
   "name": "python3"
  },
  "language_info": {
   "codemirror_mode": {
    "name": "ipython",
    "version": 3
   },
   "file_extension": ".py",
   "mimetype": "text/x-python",
   "name": "python",
   "nbconvert_exporter": "python",
   "pygments_lexer": "ipython3",
   "version": "3.7.3"
  }
 },
 "nbformat": 4,
 "nbformat_minor": 2
}
