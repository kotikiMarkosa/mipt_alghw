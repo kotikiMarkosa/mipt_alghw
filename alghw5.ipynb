{
 "cells": [
  {
   "cell_type": "markdown",
   "metadata": {},
   "source": [
    "# Упражнение 1. Удаление элемента из односвязного списка\n",
    "\n",
    "Реализуйте метод [`__delitem__()`](https://docs.python.org/3/reference/datamodel.html#object.__delitem__) для класса `SinglyLinkedList` из примера 1 лабораторной работы alg5.ipynb. Метод должен удалять элементы списка по индексу.\n",
    "```python\n",
    "del my_list[idx]\n",
    "```\n",
    "Должна быть возможность работы с отрицательными индексами, и встроена проверка значения индекса. Если индекс выходит за границы списка, кидайте исключение `IndexError`."
   ]
  },
  {
   "cell_type": "code",
   "execution_count": 50,
   "metadata": {},
   "outputs": [
    {
     "name": "stdout",
     "output_type": "stream",
     "text": [
      "Inserting\n",
      "Printing\n",
      "5\n",
      "Size\n",
      "1\n",
      "Printing\n",
      "Size\n",
      "0\n"
     ]
    }
   ],
   "source": [
    "class Node:\n",
    "    def __init__(self, data, next_node=None):\n",
    "        self.data = data\n",
    "        self.next_node = next_node\n",
    "\n",
    "    def get_data(self):\n",
    "        return self.data\n",
    "\n",
    "    def set_data(self, val):\n",
    "        self.data = val\n",
    "\n",
    "    def get_next_node(self):\n",
    "        return self.next_node\n",
    "\n",
    "\n",
    "class SinglyLinkedList:\n",
    "    def __init__(self):\n",
    "        self.head = None\n",
    "        self.size = 0\n",
    "\n",
    "    def get_size(self):\n",
    "        return self.size\n",
    "\n",
    "    def add_node(self, data):\n",
    "        new_node = Node(data, self.head)\n",
    "        self.head = new_node\n",
    "        self.size += 1\n",
    "       \n",
    "    def print_list(self):\n",
    "        curr = self.head\n",
    "        while curr:\n",
    "            print(curr.data)\n",
    "            curr = curr.get_next_node()\n",
    "    def del_node(self, index):        \n",
    "        if index >= self.size or index < -self.size:\n",
    "            raise IndexError(\"singly linked list index out of range\")\n",
    "        \n",
    "        index = (self.size + index)% self.size\n",
    "        if index == 0 and self.size == 1:\n",
    "            self.head = None  \n",
    "        elif index == 0 and self.size > 1:\n",
    "            self.head = self.head.get_next_node()  \n",
    "        else:\n",
    "            curr = self.head\n",
    "            for i in range(index - 1):\n",
    "                curr = curr.get_next_node()\n",
    "            next_node = curr.get_next_node()\n",
    "            curr.next_node = next_node.get_next_node()\n",
    "        self.size -= 1\n",
    "\n",
    "\n",
    "my_list = SinglyLinkedList()\n",
    "print(\"Inserting\")\n",
    "my_list.add_node(5)\n",
    "# my_list.add_node(15)\n",
    "# my_list.add_node(25)\n",
    "# my_list.add_node(35)\n",
    "print(\"Printing\")\n",
    "my_list.print_list()\n",
    "print(\"Size\")\n",
    "print(my_list.get_size())\n",
    "my_list.del_node(0)\n",
    "print(\"Printing\")\n",
    "my_list.print_list()\n",
    "print(\"Size\")\n",
    "print(my_list.get_size())"
   ]
  },
  {
   "cell_type": "markdown",
   "metadata": {},
   "source": [
    "# Упражнение 2. Двусвязный список\n",
    "\n",
    "Реализуйте двусвязный список в виде класса `DoublyLinkedList`. У двусвязного списка, кроме поля `head`, должно быть еще поле `tail`, указывающее на последний элемент списка. "
   ]
  },
  {
   "cell_type": "code",
   "execution_count": 171,
   "metadata": {},
   "outputs": [],
   "source": [
    "class Node:\n",
    "    def __init__(self, data, prev_node = None, next_node=None,):\n",
    "        self.data = data\n",
    "        self.next_node = next_node\n",
    "        self.prev_node = prev_node\n",
    "\n",
    "    def get_data(self):\n",
    "        return self.data\n",
    "\n",
    "    def set_data(self, val):\n",
    "        self.data = val\n",
    "\n",
    "    def get_next_node(self):\n",
    "        return self.next_node\n",
    "    \n",
    "    def get_prev_node(self):\n",
    "        return self.prev_node\n",
    "\n",
    "\n",
    "class DoublyLinkedList:\n",
    "    def __init__(self):\n",
    "        self.head = None\n",
    "        self.tail = None\n",
    "        self.size = 0\n",
    "    def __getitem__(self, index):\n",
    "        if isinstance(index, slice):\n",
    "            sliced_list = DoublyLinkedList()\n",
    "            if index.stop == 0:\n",
    "                return sliced_list\n",
    "            else:\n",
    "                start = index.start\n",
    "                stop = index.stop\n",
    "                if not start or start < 0:\n",
    "                    start = 0\n",
    "                if not stop  or stop > self.size:\n",
    "                    stop = self.size\n",
    "                stop -= 1\n",
    "                start = (start + self.size)%self.size\n",
    "                stop = (stop + self.size)%self.size\n",
    "                if (start > stop):\n",
    "#                     raise IndexError(\"start index over then stop index\")\n",
    "                    return sliced_list\n",
    "                else:\n",
    "                    curr = self.tail\n",
    "                    for i in range(self.size - 1, stop, -1):\n",
    "                        curr = curr.get_prev_node()\n",
    "                    for i in range(stop + 1, start, -1):\n",
    "                        sliced_list.add_node(curr.data)\n",
    "                        curr = curr.get_prev_node()\n",
    "                    return sliced_list\n",
    "            \n",
    "        if isinstance(index, int):\n",
    "            if index >= self.size or index < -self.size:\n",
    "                raise IndexError(\"index out of range\")\n",
    "            index = (index + self.size)%self.size\n",
    "            curr = self.head\n",
    "            for i in range(index):\n",
    "                curr = curr.get_next_node()\n",
    "            return curr.data\n",
    "\n",
    "    def get_size(self):\n",
    "        return self.size\n",
    "\n",
    "    def add_node(self, data):\n",
    "        new_node = Node(data, next_node=self.head)\n",
    "        if not self.tail:\n",
    "            self.tail = new_node\n",
    "        else:\n",
    "            self.head.prev_node = new_node\n",
    "        self.head = new_node\n",
    "        self.size += 1\n",
    "       \n",
    "    def print_list(self):\n",
    "        curr = self.head\n",
    "        while curr:\n",
    "            print(curr.data)\n",
    "            curr = curr.get_next_node()\n",
    "    def reverse_print_list(self):\n",
    "        curr = self.tail\n",
    "        while curr:\n",
    "            print(curr.data)\n",
    "            curr = curr.get_prev_node()\n",
    "    "
   ]
  },
  {
   "cell_type": "code",
   "execution_count": 181,
   "metadata": {},
   "outputs": [
    {
     "name": "stdout",
     "output_type": "stream",
     "text": [
      "Inserting\n",
      "Printing\n",
      "35\n",
      "25\n",
      "15\n",
      "5\n",
      "Size\n",
      "4\n",
      "Reverse_Printing\n",
      "5\n",
      "15\n",
      "25\n",
      "35\n",
      "Tail data\n",
      "5\n",
      "Printing\n",
      "35\n",
      "25\n",
      "15\n",
      "5\n",
      "New_list\n",
      "35\n",
      "25\n",
      "15\n",
      "5\n"
     ]
    }
   ],
   "source": [
    "my_list = DoublyLinkedList()\n",
    "print(\"Inserting\")\n",
    "my_list.add_node(5)\n",
    "my_list.add_node(15)\n",
    "my_list.add_node(25)\n",
    "my_list.add_node(35)\n",
    "print(\"Printing\")\n",
    "my_list.print_list()\n",
    "print(\"Size\")\n",
    "print(my_list.get_size())\n",
    "\n",
    "print(\"Reverse_Printing\")\n",
    "my_list.reverse_print_list()\n",
    "print(\"Tail data\")\n",
    "print(my_list.tail.data)\n",
    "print(\"Printing\")\n",
    "my_list.print_list()\n",
    "new_list = my_list[0:4]\n",
    "print(\"New_list\")\n",
    "new_list.print_list()\n",
    "# my_list[2]"
   ]
  },
  {
   "cell_type": "code",
   "execution_count": 170,
   "metadata": {},
   "outputs": [
    {
     "data": {
      "text/plain": [
       "[]"
      ]
     },
     "execution_count": 170,
     "metadata": {},
     "output_type": "execute_result"
    }
   ],
   "source": [
    "a = [1, 2, 3, 4]\n",
    "a[2:1]"
   ]
  },
  {
   "cell_type": "code",
   "execution_count": 146,
   "metadata": {},
   "outputs": [
    {
     "data": {
      "text/plain": [
       "False"
      ]
     },
     "execution_count": 146,
     "metadata": {},
     "output_type": "execute_result"
    }
   ],
   "source": []
  },
  {
   "cell_type": "code",
   "execution_count": 106,
   "metadata": {},
   "outputs": [
    {
     "ename": "TypeError",
     "evalue": "isinstance() arg 2 must be a type or tuple of types",
     "output_type": "error",
     "traceback": [
      "\u001b[0;31m---------------------------------------------------------------------------\u001b[0m",
      "\u001b[0;31mTypeError\u001b[0m                                 Traceback (most recent call last)",
      "\u001b[0;32m<ipython-input-106-b038544ad22b>\u001b[0m in \u001b[0;36m<module>\u001b[0;34m\u001b[0m\n\u001b[0;32m----> 1\u001b[0;31m \u001b[0misinstance\u001b[0m\u001b[0;34m(\u001b[0m\u001b[0;36m0\u001b[0m\u001b[0;34m,\u001b[0m \u001b[0;34m\"NoneType\"\u001b[0m\u001b[0;34m)\u001b[0m\u001b[0;34m\u001b[0m\u001b[0;34m\u001b[0m\u001b[0m\n\u001b[0m",
      "\u001b[0;31mTypeError\u001b[0m: isinstance() arg 2 must be a type or tuple of types"
     ]
    }
   ],
   "source": [
    "isinstance(0, \"NoneType\")"
   ]
  },
  {
   "cell_type": "markdown",
   "metadata": {},
   "source": [
    "## Упражнение 3. Элемент списка, срез списка\n",
    "\n",
    "Реализуйте получение значения узла по его индексу и срез списка. Срез списка должен создавать новый список, состоящий из копий соответствующих узлов. Ограничьтесь срезами с шагом 1, сохраняющими порядок элементов. Создавать из объекта класса `DoublyLinkedList` объект встроенного типа Python **запрещается**.<br>  \n",
    "Для получения элемента по индексу и срезов используется метод [`__getitem__()`](https://docs.python.org/3/reference/datamodel.html#object.__getitem__), позволяющий передать аргумент в квадратных скобках.\n",
    "### Пример\n",
    "\n",
    "```python\n",
    "class Sequence:\n",
    "    \"\"\"\n",
    "    Класс, реализующий числовые последовательности. \n",
    "    Доступ к элементу последовательности осуществляется\n",
    "    по его индексу с помощью квадратных скобок.\n",
    "    \"\"\"\n",
    "    def __init__(self, func):\n",
    "        \"\"\"func - функция, принимающая на вход одно число и возвращающая число\"\"\"\n",
    "        self.func = func\n",
    "        \n",
    "    def __getitem__(self, index):\n",
    "        return self.func(index)\n",
    "        \n",
    "        \n",
    "squares = Sequence(lambda x: x**2)\n",
    "print(squares[3])\n",
    "print(squares[5])\n",
    "```\n",
    "В квадратные скобки можно передавать специальные объекты, называемы срезами [`slice`](https://docs.python.org/3/library/functions.html#slice).\n",
    "```python\n",
    "l = [1, 2, 3, 4, 5, 6, 7, 8]\n",
    "sl1 = slice(0, 5)\n",
    "sl2 = slice(10, 0, -2)\n",
    "print(l[sl1])\n",
    "print(l[sl2])\n",
    "```\n",
    "Срез можно создать встроенной функцией `slice()` или привычным способом: с помощью двоеточий в квадратных скобках.\n",
    "```python\n",
    "l = [1, 2, 3, 4, 5, 6, 7, 8]\n",
    "print(l[:5])\n",
    "```\n",
    "У срезов есть три поля `start`, `stop`, `step` и один метод `indices()`.\n",
    "```python\n",
    "sl = slice(-1, 3, 2)\n",
    "print(sl.start)\n",
    "print(sl.stop)\n",
    "print(sl.step)\n",
    "# Метод slice.indices() приимает на вход длину последовательности и\n",
    "# возвращает кортеж из трех элементов (start, stop, step). В отличие\n",
    "# от полей slice.start и slice.stop элементы кортежа всегда положительные.\n",
    "print(sl.indices(20))\n",
    "```\n",
    "Проверку, является ли аргумент `__getitem__()` срезом, можно выполнить с помощью \n",
    "```python\n",
    "isinstance(index, slice)\n",
    "```\n",
    ">Если в квадратные скобки подано число, убедитесь, что оно целое и принадлежит правильному диапазону. В противном случае бросьте исключение `IndexError`."
   ]
  },
  {
   "cell_type": "code",
   "execution_count": 182,
   "metadata": {},
   "outputs": [],
   "source": [
    "#__getitem__ реализован в прошлом упражнении для двусвязного списка"
   ]
  },
  {
   "cell_type": "markdown",
   "metadata": {},
   "source": [
    "# Упражнение 4. Очередь на основе списка\n",
    "\n",
    "Реализуйте очередь на основе односвязного списка в виде класса `ListBasedQueue`.\n",
    "\n",
    ">Подсказка: заведите поле `tail` для хранения указателя на конец очереди."
   ]
  },
  {
   "cell_type": "code",
   "execution_count": 188,
   "metadata": {},
   "outputs": [],
   "source": [
    "class Empty(Exception):\n",
    "    def __init__(self, message):\n",
    "        super().__init__(message)\n",
    "\n",
    "\n",
    "class Full(Exception):\n",
    "    def __init__(self, message):\n",
    "        super().__init__(message)"
   ]
  },
  {
   "cell_type": "code",
   "execution_count": 191,
   "metadata": {},
   "outputs": [],
   "source": [
    "class Node:\n",
    "    def __init__(self, data, next_node=None):\n",
    "        self.data = data\n",
    "        self.next_node = next_node\n",
    "\n",
    "    def get_data(self):\n",
    "        return self.data\n",
    "\n",
    "    def set_data(self, val):\n",
    "        self.data = val\n",
    "\n",
    "    def get_next_node(self):\n",
    "        return self.next_node\n",
    "\n",
    "class ListBasedQueue:\n",
    "    def __init__(self, max_size=10**3):\n",
    "        self.max_size = max_size\n",
    "        self.size = 0\n",
    "        self.head = None\n",
    "        self.tail = None\n",
    "        \n",
    "    def get_size(self):\n",
    "        return self.size\n",
    "    \n",
    "    def enqueue(self, data):\n",
    "        if self.size >= self.max_size:\n",
    "            raise Full(\"can not add element {} because queue is full\".format(data))\n",
    "        new_node = Node(data)\n",
    "        if self.size == 0:\n",
    "            self.head = self.tail = new_node\n",
    "        else:\n",
    "            self.tail.next_node = new_node\n",
    "            self.tail = new_node\n",
    "        self.size += 1\n",
    "        \n",
    "    def dequeue(self):\n",
    "        if self.size >= self.max_size:\n",
    "            raise Empty(\"can not get element because queue is empty\")\n",
    "        curr = self.head\n",
    "        self.head = self.head.next_node\n",
    "        if self.size == 1:\n",
    "            self.tail = None\n",
    "        self.size -= 1\n",
    "        return curr.data\n",
    "    "
   ]
  },
  {
   "cell_type": "code",
   "execution_count": 196,
   "metadata": {},
   "outputs": [
    {
     "name": "stdout",
     "output_type": "stream",
     "text": [
      "3 3\n",
      "3 -2\n",
      "3 4\n",
      "3 4\n",
      "3 a\n",
      "3 b\n",
      "3 c\n",
      "3 d\n",
      "3 e\n",
      "3 f\n",
      "3 g\n"
     ]
    },
    {
     "ename": "Full",
     "evalue": "can not add element h because queue is full",
     "output_type": "error",
     "traceback": [
      "\u001b[0;31m---------------------------------------------------------------------------\u001b[0m",
      "\u001b[0;31mFull\u001b[0m                                      Traceback (most recent call last)",
      "\u001b[0;32m<ipython-input-196-7e83a45aee83>\u001b[0m in \u001b[0;36m<module>\u001b[0;34m\u001b[0m\n\u001b[1;32m      9\u001b[0m \u001b[0;32mfor\u001b[0m \u001b[0mc\u001b[0m \u001b[0;32min\u001b[0m \u001b[0;34m'abcdefghij'\u001b[0m\u001b[0;34m:\u001b[0m\u001b[0;34m\u001b[0m\u001b[0;34m\u001b[0m\u001b[0m\n\u001b[1;32m     10\u001b[0m     \u001b[0mprint\u001b[0m\u001b[0;34m(\u001b[0m\u001b[0mq\u001b[0m\u001b[0;34m.\u001b[0m\u001b[0mhead\u001b[0m\u001b[0;34m.\u001b[0m\u001b[0mdata\u001b[0m\u001b[0;34m,\u001b[0m \u001b[0mq\u001b[0m\u001b[0;34m.\u001b[0m\u001b[0mtail\u001b[0m\u001b[0;34m.\u001b[0m\u001b[0mdata\u001b[0m\u001b[0;34m)\u001b[0m\u001b[0;34m\u001b[0m\u001b[0;34m\u001b[0m\u001b[0m\n\u001b[0;32m---> 11\u001b[0;31m     \u001b[0mq\u001b[0m\u001b[0;34m.\u001b[0m\u001b[0menqueue\u001b[0m\u001b[0;34m(\u001b[0m\u001b[0mc\u001b[0m\u001b[0;34m)\u001b[0m\u001b[0;34m\u001b[0m\u001b[0;34m\u001b[0m\u001b[0m\n\u001b[0m",
      "\u001b[0;32m<ipython-input-191-371dc11fa0a6>\u001b[0m in \u001b[0;36menqueue\u001b[0;34m(self, data)\u001b[0m\n\u001b[1;32m     25\u001b[0m     \u001b[0;32mdef\u001b[0m \u001b[0menqueue\u001b[0m\u001b[0;34m(\u001b[0m\u001b[0mself\u001b[0m\u001b[0;34m,\u001b[0m \u001b[0mdata\u001b[0m\u001b[0;34m)\u001b[0m\u001b[0;34m:\u001b[0m\u001b[0;34m\u001b[0m\u001b[0;34m\u001b[0m\u001b[0m\n\u001b[1;32m     26\u001b[0m         \u001b[0;32mif\u001b[0m \u001b[0mself\u001b[0m\u001b[0;34m.\u001b[0m\u001b[0msize\u001b[0m \u001b[0;34m>=\u001b[0m \u001b[0mself\u001b[0m\u001b[0;34m.\u001b[0m\u001b[0mmax_size\u001b[0m\u001b[0;34m:\u001b[0m\u001b[0;34m\u001b[0m\u001b[0;34m\u001b[0m\u001b[0m\n\u001b[0;32m---> 27\u001b[0;31m             \u001b[0;32mraise\u001b[0m \u001b[0mFull\u001b[0m\u001b[0;34m(\u001b[0m\u001b[0;34m\"can not add element {} because queue is full\"\u001b[0m\u001b[0;34m.\u001b[0m\u001b[0mformat\u001b[0m\u001b[0;34m(\u001b[0m\u001b[0mdata\u001b[0m\u001b[0;34m)\u001b[0m\u001b[0;34m)\u001b[0m\u001b[0;34m\u001b[0m\u001b[0;34m\u001b[0m\u001b[0m\n\u001b[0m\u001b[1;32m     28\u001b[0m         \u001b[0mnew_node\u001b[0m \u001b[0;34m=\u001b[0m \u001b[0mNode\u001b[0m\u001b[0;34m(\u001b[0m\u001b[0mdata\u001b[0m\u001b[0;34m)\u001b[0m\u001b[0;34m\u001b[0m\u001b[0;34m\u001b[0m\u001b[0m\n\u001b[1;32m     29\u001b[0m         \u001b[0;32mif\u001b[0m \u001b[0mself\u001b[0m\u001b[0;34m.\u001b[0m\u001b[0msize\u001b[0m \u001b[0;34m==\u001b[0m \u001b[0;36m0\u001b[0m\u001b[0;34m:\u001b[0m\u001b[0;34m\u001b[0m\u001b[0;34m\u001b[0m\u001b[0m\n",
      "\u001b[0;31mFull\u001b[0m: can not add element h because queue is full"
     ]
    }
   ],
   "source": [
    "q = ListBasedQueue(max_size=10)\n",
    "\n",
    "q.enqueue(3)\n",
    "print(q.head.data, q.tail.data)\n",
    "q.enqueue(-2)\n",
    "print(q.head.data, q.tail.data)\n",
    "q.enqueue(4)\n",
    "print(q.head.data, q.tail.data)\n",
    "for c in 'abcdefghij':\n",
    "    print(q.head.data, q.tail.data)\n",
    "    q.enqueue(c)"
   ]
  },
  {
   "cell_type": "code",
   "execution_count": null,
   "metadata": {},
   "outputs": [],
   "source": []
  }
 ],
 "metadata": {
  "kernelspec": {
   "display_name": "Python 3",
   "language": "python",
   "name": "python3"
  },
  "language_info": {
   "codemirror_mode": {
    "name": "ipython",
    "version": 3
   },
   "file_extension": ".py",
   "mimetype": "text/x-python",
   "name": "python",
   "nbconvert_exporter": "python",
   "pygments_lexer": "ipython3",
   "version": "3.7.3"
  }
 },
 "nbformat": 4,
 "nbformat_minor": 2
}
