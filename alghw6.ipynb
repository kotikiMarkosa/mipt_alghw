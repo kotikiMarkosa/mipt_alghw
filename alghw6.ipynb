{
 "cells": [
  {
   "cell_type": "markdown",
   "metadata": {},
   "source": [
    "# Упражнение 1. Хорошие слова\n",
    "\n",
    "Назовём слово хорошим, если выполнено одно из условий.\n",
    "\n",
    "- Оно равно слову «0».\n",
    "\n",
    "- Оно начинается на символ «1», а затем следует хорошее слово.\n",
    "\n",
    "- Оно начинается на символ «2», а затем следует два записанных друг за другом хороших слова.\n",
    "\n",
    "- Оно начинается на символ «3», а затем следует три записанных друг за другом хороших слова.\n",
    "\n",
    "Примеры хороших слов: `10`, `200`, `3000`, `21010`, `2010`, `3020010`, `11111110`, `30011111110`.\n",
    "\n",
    "Напишите функцию, возвращающую `True`, если слово хорошее, и `False`, если не хорошее.\n",
    "\n",
    "Решите задачу двумя способами: с помощью рекурсии и с помощью стека."
   ]
  },
  {
   "cell_type": "code",
   "execution_count": 1,
   "metadata": {},
   "outputs": [],
   "source": [
    "def reading(word):\n",
    "    found = False\n",
    "    i = 1\n",
    "    while not found and i <= len(word):\n",
    "        if good_words(word[:i]):\n",
    "            found = True\n",
    "        else:\n",
    "            i +=1\n",
    "    if found:\n",
    "        return i\n",
    "    else:\n",
    "        return 0"
   ]
  },
  {
   "cell_type": "code",
   "execution_count": 2,
   "metadata": {},
   "outputs": [],
   "source": [
    "def good_words(word):\n",
    "    is_good = False\n",
    "    if word[-1] == '0':\n",
    "        if int(word) == 0:\n",
    "            is_good = True\n",
    "        if word[0] == '1' and good_words(word[1:]):\n",
    "            is_good = True\n",
    "        if word[0] == '2' and len(word) >= 3:\n",
    "            ind = reading(word[1:])\n",
    "            if ind:\n",
    "                ln = len(word[ind + 1:])\n",
    "                ind = reading(word[ind + 1:])\n",
    "                if ind and (ind == ln):\n",
    "                    is_good = True\n",
    "                    \n",
    "        if word[0] == '3' and len(word) >= 4:\n",
    "            ind = reading(word[1:])\n",
    "            if ind:\n",
    "                ind1 = reading(word[ind + 1:])\n",
    "                if ind1:\n",
    "                    ln = len(word[ind1 + ind + 1:])\n",
    "                    ind2 = reading(word[ind1 + ind + 1:])\n",
    "                    if ind2 and (ind2 == ln):\n",
    "                        is_good = True\n",
    "                        \n",
    "                \n",
    "    return is_good        "
   ]
  },
  {
   "cell_type": "code",
   "execution_count": 3,
   "metadata": {},
   "outputs": [],
   "source": [
    "aa = [10, 200, 3000, 21010, 2010, 3020010, 11111110, 30011111110]\n",
    "for el in aa:\n",
    "    assert good_words(str(el))"
   ]
  },
  {
   "cell_type": "code",
   "execution_count": 217,
   "metadata": {},
   "outputs": [],
   "source": [
    "# def stack_good_words(word):\n",
    "#     stack = []\n",
    "#     if word == '0':\n",
    "#         is_good = True\n",
    "#     i = 0\n",
    "#     ind = i\n",
    "#     while i < len(word):\n",
    "#         if word[i] == '1':\n",
    "#             stack.append(1)\n",
    "#             ind = reading(word[i + 1:])\n",
    "#             if ind:\n",
    "#                 print(ind)\n",
    "#                 stack.pop()\n",
    "#             i = ind + i + 1\n",
    "            \n",
    "# #         if word[i] == '2':\n",
    "# #             stack.append(2)\n",
    "# #             ind = reading(word[i + 1:])\n",
    "# #             if ind:\n",
    "# #                 ind1 = reading(word[ind + 1:])\n",
    "# #                 if ind1:\n",
    "# #                     stack.pop()\n",
    "#         print(ind)\n",
    "#     print(stack)      \n",
    "#     if sum(stack):\n",
    "#         return False\n",
    "#     else: \n",
    "#         return True\n",
    "    "
   ]
  },
  {
   "cell_type": "code",
   "execution_count": 252,
   "metadata": {},
   "outputs": [],
   "source": [
    "# aa = [10, 200, 3000, 21010, 2010, 3020010, 11111110, 30011111110]\n",
    "# for el in aa:\n",
    "#     assert good_words(str(el))\n",
    "# stack_good_words('1010')"
   ]
  },
  {
   "cell_type": "markdown",
   "metadata": {},
   "source": [
    "# Упражнение 2. Сортировочная станция\n",
    "\n",
    "Реализуйте [алгоритм сортировочной станции](https://ru.wikipedia.org/wiki/%D0%90%D0%BB%D0%B3%D0%BE%D1%80%D0%B8%D1%82%D0%BC_%D1%81%D0%BE%D1%80%D1%82%D0%B8%D1%80%D0%BE%D0%B2%D0%BE%D1%87%D0%BD%D0%BE%D0%B9_%D1%81%D1%82%D0%B0%D0%BD%D1%86%D0%B8%D0%B8)."
   ]
  },
  {
   "cell_type": "code",
   "execution_count": 2,
   "metadata": {},
   "outputs": [
    {
     "data": {
      "text/plain": [
       "True"
      ]
     },
     "execution_count": 2,
     "metadata": {},
     "output_type": "execute_result"
    }
   ],
   "source": []
  },
  {
   "cell_type": "markdown",
   "metadata": {},
   "source": [
    "# Упражнение 3. Очередь на основе стека\n",
    "\n",
    "Реализуйте очередь, которая использует 2 стека для своего функционирования: в первый стек элементы помещаются, а из второго извлекаются."
   ]
  },
  {
   "cell_type": "code",
   "execution_count": 3,
   "metadata": {},
   "outputs": [
    {
     "data": {
      "text/plain": [
       "0"
      ]
     },
     "execution_count": 3,
     "metadata": {},
     "output_type": "execute_result"
    }
   ],
   "source": [
    "s = \"def sorting_key(x):\\n\\treturn int(x.split('#')[-1])\"\n",
    "exec(s)\n",
    "sorting_key(\"launch #0\")"
   ]
  },
  {
   "cell_type": "code",
   "execution_count": 245,
   "metadata": {},
   "outputs": [],
   "source": [
    "class StackQueue():\n",
    "    def __init__(self):\n",
    "        self.stack1 = []\n",
    "        self.stack2 = []\n",
    "        self.size = 0\n",
    "        \n",
    "    def enqueue(self, value):\n",
    "        self.stack1.append(value)\n",
    "        self.size += 1\n",
    "        \n",
    "        \n",
    "    def dequeue(self):\n",
    "        if not self.stack2:\n",
    "            while self.stack1:\n",
    "                self.stack2.append(self.stack1.pop())\n",
    "        self.size -= 1\n",
    "        return self.stack2.pop()"
   ]
  },
  {
   "cell_type": "code",
   "execution_count": 247,
   "metadata": {},
   "outputs": [
    {
     "data": {
      "text/plain": [
       "1"
      ]
     },
     "execution_count": 247,
     "metadata": {},
     "output_type": "execute_result"
    }
   ],
   "source": [
    "queue = StackQueue()\n",
    "queue.enqueue(1)\n",
    "queue.enqueue(2)\n",
    "queue.enqueue(3)\n",
    "queue.dequeue()"
   ]
  },
  {
   "cell_type": "code",
   "execution_count": 250,
   "metadata": {},
   "outputs": [
    {
     "data": {
      "text/plain": [
       "2"
      ]
     },
     "execution_count": 250,
     "metadata": {},
     "output_type": "execute_result"
    }
   ],
   "source": [
    "queue.dequeue()\n"
   ]
  },
  {
   "cell_type": "code",
   "execution_count": 251,
   "metadata": {},
   "outputs": [
    {
     "data": {
      "text/plain": [
       "1"
      ]
     },
     "execution_count": 251,
     "metadata": {},
     "output_type": "execute_result"
    }
   ],
   "source": [
    "queue.size"
   ]
  }
 ],
 "metadata": {
  "kernelspec": {
   "display_name": "Python 3",
   "language": "python",
   "name": "python3"
  },
  "language_info": {
   "codemirror_mode": {
    "name": "ipython",
    "version": 3
   },
   "file_extension": ".py",
   "mimetype": "text/x-python",
   "name": "python",
   "nbconvert_exporter": "python",
   "pygments_lexer": "ipython3",
   "version": "3.7.3"
  }
 },
 "nbformat": 4,
 "nbformat_minor": 2
}
